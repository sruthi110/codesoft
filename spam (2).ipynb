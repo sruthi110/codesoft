{
  "nbformat": 4,
  "nbformat_minor": 0,
  "metadata": {
    "colab": {
      "provenance": []
    },
    "kernelspec": {
      "name": "python3",
      "display_name": "Python 3"
    },
    "language_info": {
      "name": "python"
    }
  },
  "cells": [
    {
      "cell_type": "markdown",
      "source": [
        "**SPAM SMS DETECTION**"
      ],
      "metadata": {
        "id": "79BtQSAnunbv"
      }
    },
    {
      "cell_type": "code",
      "execution_count": null,
      "metadata": {
        "id": "AgyBAM0yw7Z6"
      },
      "outputs": [],
      "source": [
        "import numpy as np\n",
        "import pandas as pd\n",
        "import os\n",
        "for dirname, _, filenames in os.walk('/kaggle/input'):\n",
        "    for filename in filenames:\n",
        "        print(os.path.join(dirname, filename))"
      ]
    },
    {
      "cell_type": "markdown",
      "source": [
        "**Import Libraries and Load Data**"
      ],
      "metadata": {
        "id": "pYxhOjB-tgUB"
      }
    },
    {
      "cell_type": "code",
      "source": [
        "import pandas as pd\n",
        "from sklearn.model_selection import train_test_split\n",
        "from sklearn.feature_extraction.text import TfidfVectorizer\n",
        "from sklearn.naive_bayes import MultinomialNB\n",
        "from sklearn.metrics import accuracy_score, classification_report\n",
        "data = pd.read_csv('spam.csv',encoding = 'ISO-8859-1')"
      ],
      "metadata": {
        "id": "TkAXrRNACFGu"
      },
      "execution_count": null,
      "outputs": []
    },
    {
      "cell_type": "markdown",
      "source": [
        "**Data Preprocessing**"
      ],
      "metadata": {
        "id": "fVTU-LuStsG8"
      }
    },
    {
      "cell_type": "code",
      "source": [
        "data = data[['v1', 'v2']]\n",
        "data.columns = ['label', 'text']\n",
        "data['label'] = data['label'].map({'ham': 0, 'spam': 1})\n",
        "X_train, X_test, y_train, y_test = train_test_split(data['text'], data['label'], test_size=0.2, random_state=42)"
      ],
      "metadata": {
        "colab": {
          "base_uri": "https://localhost:8080/"
        },
        "id": "bC4VQe6ZDNyr",
        "outputId": "439167c3-f482-4ce9-d5f4-abe3175eca38"
      },
      "execution_count": null,
      "outputs": [
        {
          "output_type": "stream",
          "name": "stderr",
          "text": [
            "<ipython-input-6-13ce52a14b8c>:3: SettingWithCopyWarning: \n",
            "A value is trying to be set on a copy of a slice from a DataFrame.\n",
            "Try using .loc[row_indexer,col_indexer] = value instead\n",
            "\n",
            "See the caveats in the documentation: https://pandas.pydata.org/pandas-docs/stable/user_guide/indexing.html#returning-a-view-versus-a-copy\n",
            "  data['label'] = data['label'].map({'ham': 0, 'spam': 1})\n"
          ]
        }
      ]
    },
    {
      "cell_type": "markdown",
      "source": [
        "**Text Vectorization (TF-IDF)**"
      ],
      "metadata": {
        "id": "PPElBTBktwE6"
      }
    },
    {
      "cell_type": "code",
      "source": [
        "tfidf_vectorizer = TfidfVectorizer(max_features=5000)\n",
        "X_train_tfidf = tfidf_vectorizer.fit_transform(X_train)\n",
        "X_test_tfidf = tfidf_vectorizer.transform(X_test)"
      ],
      "metadata": {
        "id": "mx87in4QDUMh"
      },
      "execution_count": null,
      "outputs": []
    },
    {
      "cell_type": "markdown",
      "source": [
        "**Model Selection and Training**"
      ],
      "metadata": {
        "id": "J_mHhGhluAIc"
      }
    },
    {
      "cell_type": "code",
      "source": [
        "model = MultinomialNB()\n",
        "model.fit(X_train_tfidf, y_train)"
      ],
      "metadata": {
        "colab": {
          "base_uri": "https://localhost:8080/",
          "height": 74
        },
        "id": "V3w45_9-DZPp",
        "outputId": "341444cc-dd77-47a5-e9cc-c37e11b0aacd"
      },
      "execution_count": null,
      "outputs": [
        {
          "output_type": "execute_result",
          "data": {
            "text/plain": [
              "MultinomialNB()"
            ],
            "text/html": [
              "<style>#sk-container-id-1 {color: black;background-color: white;}#sk-container-id-1 pre{padding: 0;}#sk-container-id-1 div.sk-toggleable {background-color: white;}#sk-container-id-1 label.sk-toggleable__label {cursor: pointer;display: block;width: 100%;margin-bottom: 0;padding: 0.3em;box-sizing: border-box;text-align: center;}#sk-container-id-1 label.sk-toggleable__label-arrow:before {content: \"▸\";float: left;margin-right: 0.25em;color: #696969;}#sk-container-id-1 label.sk-toggleable__label-arrow:hover:before {color: black;}#sk-container-id-1 div.sk-estimator:hover label.sk-toggleable__label-arrow:before {color: black;}#sk-container-id-1 div.sk-toggleable__content {max-height: 0;max-width: 0;overflow: hidden;text-align: left;background-color: #f0f8ff;}#sk-container-id-1 div.sk-toggleable__content pre {margin: 0.2em;color: black;border-radius: 0.25em;background-color: #f0f8ff;}#sk-container-id-1 input.sk-toggleable__control:checked~div.sk-toggleable__content {max-height: 200px;max-width: 100%;overflow: auto;}#sk-container-id-1 input.sk-toggleable__control:checked~label.sk-toggleable__label-arrow:before {content: \"▾\";}#sk-container-id-1 div.sk-estimator input.sk-toggleable__control:checked~label.sk-toggleable__label {background-color: #d4ebff;}#sk-container-id-1 div.sk-label input.sk-toggleable__control:checked~label.sk-toggleable__label {background-color: #d4ebff;}#sk-container-id-1 input.sk-hidden--visually {border: 0;clip: rect(1px 1px 1px 1px);clip: rect(1px, 1px, 1px, 1px);height: 1px;margin: -1px;overflow: hidden;padding: 0;position: absolute;width: 1px;}#sk-container-id-1 div.sk-estimator {font-family: monospace;background-color: #f0f8ff;border: 1px dotted black;border-radius: 0.25em;box-sizing: border-box;margin-bottom: 0.5em;}#sk-container-id-1 div.sk-estimator:hover {background-color: #d4ebff;}#sk-container-id-1 div.sk-parallel-item::after {content: \"\";width: 100%;border-bottom: 1px solid gray;flex-grow: 1;}#sk-container-id-1 div.sk-label:hover label.sk-toggleable__label {background-color: #d4ebff;}#sk-container-id-1 div.sk-serial::before {content: \"\";position: absolute;border-left: 1px solid gray;box-sizing: border-box;top: 0;bottom: 0;left: 50%;z-index: 0;}#sk-container-id-1 div.sk-serial {display: flex;flex-direction: column;align-items: center;background-color: white;padding-right: 0.2em;padding-left: 0.2em;position: relative;}#sk-container-id-1 div.sk-item {position: relative;z-index: 1;}#sk-container-id-1 div.sk-parallel {display: flex;align-items: stretch;justify-content: center;background-color: white;position: relative;}#sk-container-id-1 div.sk-item::before, #sk-container-id-1 div.sk-parallel-item::before {content: \"\";position: absolute;border-left: 1px solid gray;box-sizing: border-box;top: 0;bottom: 0;left: 50%;z-index: -1;}#sk-container-id-1 div.sk-parallel-item {display: flex;flex-direction: column;z-index: 1;position: relative;background-color: white;}#sk-container-id-1 div.sk-parallel-item:first-child::after {align-self: flex-end;width: 50%;}#sk-container-id-1 div.sk-parallel-item:last-child::after {align-self: flex-start;width: 50%;}#sk-container-id-1 div.sk-parallel-item:only-child::after {width: 0;}#sk-container-id-1 div.sk-dashed-wrapped {border: 1px dashed gray;margin: 0 0.4em 0.5em 0.4em;box-sizing: border-box;padding-bottom: 0.4em;background-color: white;}#sk-container-id-1 div.sk-label label {font-family: monospace;font-weight: bold;display: inline-block;line-height: 1.2em;}#sk-container-id-1 div.sk-label-container {text-align: center;}#sk-container-id-1 div.sk-container {/* jupyter's `normalize.less` sets `[hidden] { display: none; }` but bootstrap.min.css set `[hidden] { display: none !important; }` so we also need the `!important` here to be able to override the default hidden behavior on the sphinx rendered scikit-learn.org. See: https://github.com/scikit-learn/scikit-learn/issues/21755 */display: inline-block !important;position: relative;}#sk-container-id-1 div.sk-text-repr-fallback {display: none;}</style><div id=\"sk-container-id-1\" class=\"sk-top-container\"><div class=\"sk-text-repr-fallback\"><pre>MultinomialNB()</pre><b>In a Jupyter environment, please rerun this cell to show the HTML representation or trust the notebook. <br />On GitHub, the HTML representation is unable to render, please try loading this page with nbviewer.org.</b></div><div class=\"sk-container\" hidden><div class=\"sk-item\"><div class=\"sk-estimator sk-toggleable\"><input class=\"sk-toggleable__control sk-hidden--visually\" id=\"sk-estimator-id-1\" type=\"checkbox\" checked><label for=\"sk-estimator-id-1\" class=\"sk-toggleable__label sk-toggleable__label-arrow\">MultinomialNB</label><div class=\"sk-toggleable__content\"><pre>MultinomialNB()</pre></div></div></div></div></div>"
            ]
          },
          "metadata": {},
          "execution_count": 8
        }
      ]
    },
    {
      "cell_type": "markdown",
      "source": [
        "**Model Evaluation**"
      ],
      "metadata": {
        "id": "diY8nqWEt1fU"
      }
    },
    {
      "cell_type": "code",
      "source": [
        "y_pred = model.predict(X_test_tfidf)\n",
        "accuracy = accuracy_score(y_test, y_pred)\n",
        "classification_rep = classification_report(y_test, y_pred)\n",
        "\n",
        "print(f\"Accuracy: {accuracy:.2f}\")\n",
        "print(\"Classification Report:\\n\", classification_rep)"
      ],
      "metadata": {
        "colab": {
          "base_uri": "https://localhost:8080/"
        },
        "id": "AGIuZqBgDdqN",
        "outputId": "009f4bb9-44e0-4ec4-a747-53f691e1e56f"
      },
      "execution_count": null,
      "outputs": [
        {
          "output_type": "stream",
          "name": "stdout",
          "text": [
            "Accuracy: 0.97\n",
            "Classification Report:\n",
            "               precision    recall  f1-score   support\n",
            "\n",
            "           0       0.96      1.00      0.98       965\n",
            "           1       1.00      0.75      0.86       150\n",
            "\n",
            "    accuracy                           0.97      1115\n",
            "   macro avg       0.98      0.88      0.92      1115\n",
            "weighted avg       0.97      0.97      0.96      1115\n",
            "\n"
          ]
        }
      ]
    },
    {
      "cell_type": "markdown",
      "source": [
        "**Interpretation and Further Analysis**"
      ],
      "metadata": {
        "id": "NYW2TBl4uLLJ"
      }
    },
    {
      "cell_type": "code",
      "source": [
        "from sklearn.metrics import confusion_matrix\n",
        "import seaborn as sns\n",
        "import matplotlib.pyplot as plt\n",
        "\n",
        "conf_matrix = confusion_matrix(y_test, y_pred)\n",
        "sns.heatmap(conf_matrix, annot=True, fmt='d', cmap='Blues')\n",
        "plt.xlabel('Predicted')\n",
        "plt.ylabel('Actual')\n",
        "plt.title('Confusion Matrix')\n",
        "plt.show()"
      ],
      "metadata": {
        "colab": {
          "base_uri": "https://localhost:8080/",
          "height": 472
        },
        "id": "GzQIXIIMDh2-",
        "outputId": "08ced552-b62c-42bd-e745-6e863aa866a7"
      },
      "execution_count": null,
      "outputs": [
        {
          "output_type": "display_data",
          "data": {
            "text/plain": [
              "<Figure size 640x480 with 2 Axes>"
            ],
            "image/png": "[encoded data removed]"
          },
          "metadata": {}
        }
      ]
    },
    {
      "cell_type": "code",
      "source": [
        "misclassified_examples = X_test[y_test != y_pred]\n",
        "misclassified_actual_labels = y_test[y_test != y_pred]\n",
        "misclassified_predicted_labels = y_pred[y_test != y_pred]\n",
        "\n",
        "for i in range(min(5, len(misclassified_examples))):\n",
        "    print(\"Predicted:\", misclassified_predicted_labels[i])\n",
        "    print(\"Actual:\", misclassified_actual_labels.iloc[i])\n",
        "    print(\"Message:\", misclassified_examples.iloc[i])\n",
        "    print()"
      ],
      "metadata": {
        "id": "SiObhh6YDnW4",
        "outputId": "17782f30-e19a-4e31-d9aa-cd00b9edd6cf",
        "colab": {
          "base_uri": "https://localhost:8080/"
        }
      },
      "execution_count": null,
      "outputs": [
        {
          "output_type": "stream",
          "name": "stdout",
          "text": [
            "Predicted: 0\n",
            "Actual: 1\n",
            "Message: We know someone who you know that fancies you. Call 09058097218 to find out who. POBox 6, LS15HB 150p\n",
            "\n",
            "Predicted: 0\n",
            "Actual: 1\n",
            "Message: Hi I'm sue. I am 20 years old and work as a lapdancer. I love sex. Text me live - I'm i my bedroom now. text SUE to 89555. By TextOperator G2 1DA 150ppmsg 18+\n",
            "\n",
            "Predicted: 0\n",
            "Actual: 1\n",
            "Message: Loans for any purpose even if you have Bad Credit! Tenants Welcome. Call NoWorriesLoans.com on 08717111821\n",
            "\n",
            "Predicted: 0\n",
            "Actual: 1\n",
            "Message: ringtoneking 84484\n",
            "\n",
            "Predicted: 0\n",
            "Actual: 1\n",
            "Message: U have a secret admirer who is looking 2 make contact with U-find out who they R*reveal who thinks UR so special-call on 09058094594\n",
            "\n"
          ]
        }
      ]
    },
    {
      "cell_type": "markdown",
      "source": [
        "**Advanced Text Preprocessing**"
      ],
      "metadata": {
        "id": "1g2oJ-57uRzt"
      }
    },
    {
      "cell_type": "code",
      "source": [
        "import pandas as pd\n",
        "import spacy\n",
        "from sklearn.feature_extraction.text import TfidfVectorizer\n",
        "data = pd.read_csv('spam.csv',encoding = 'ISO-8859-1')\n",
        "text_data = data['v2']\n",
        "nlp = spacy.load(\"en_core_web_sm\")\n",
        "def preprocess_text(text):\n",
        "    doc = nlp(text)\n",
        "    tokens = [token.lemma_ for token in doc]\n",
        "    return \" \".join(tokens)\n",
        "preprocessed_text_data = [preprocess_text(text) for text in text_data]\n",
        "tfidf_vectorizer = TfidfVectorizer(max_features=5000)\n",
        "tfidf_matrix = tfidf_vectorizer.fit_transform(preprocessed_text_data)\n",
        "tfidf_df = pd.DataFrame(tfidf_matrix.toarray(), columns=tfidf_vectorizer.get_feature_names_out())\n",
        "print(tfidf_df.head())"
      ],
      "metadata": {
        "colab": {
          "base_uri": "https://localhost:8080/"
        },
        "id": "76XO2nArlXAV",
        "outputId": "436e479a-526b-482f-ca42-6125f2ea2667"
      },
      "execution_count": null,
      "outputs": [
        {
          "output_type": "stream",
          "name": "stdout",
          "text": [
            "    00  000  000pes  008704050406  0089  0121  01223585236  01223585334  \\\n",
            "0  0.0  0.0     0.0           0.0   0.0   0.0          0.0          0.0   \n",
            "1  0.0  0.0     0.0           0.0   0.0   0.0          0.0          0.0   \n",
            "2  0.0  0.0     0.0           0.0   0.0   0.0          0.0          0.0   \n",
            "3  0.0  0.0     0.0           0.0   0.0   0.0          0.0          0.0   \n",
            "4  0.0  0.0     0.0           0.0   0.0   0.0          0.0          0.0   \n",
            "\n",
            "   0125698789   02  ...   ìä   ìï   ó_  û_thank  ûªm  ûªt  ûªve   ûï  ûïharry  \\\n",
            "0         0.0  0.0  ...  0.0  0.0  0.0      0.0  0.0  0.0   0.0  0.0      0.0   \n",
            "1         0.0  0.0  ...  0.0  0.0  0.0      0.0  0.0  0.0   0.0  0.0      0.0   \n",
            "2         0.0  0.0  ...  0.0  0.0  0.0      0.0  0.0  0.0   0.0  0.0      0.0   \n",
            "3         0.0  0.0  ...  0.0  0.0  0.0      0.0  0.0  0.0   0.0  0.0      0.0   \n",
            "4         0.0  0.0  ...  0.0  0.0  0.0      0.0  0.0  0.0   0.0  0.0      0.0   \n",
            "\n",
            "    ûò  \n",
            "0  0.0  \n",
            "1  0.0  \n",
            "2  0.0  \n",
            "3  0.0  \n",
            "4  0.0  \n",
            "\n",
            "[5 rows x 5000 columns]\n"
          ]
        }
      ]
    },
    {
      "cell_type": "markdown",
      "source": [
        "**Ensemble Methods**"
      ],
      "metadata": {
        "id": "Q4mciUhduaNt"
      }
    },
    {
      "cell_type": "code",
      "source": [
        "import pandas as pd\n",
        "from sklearn.model_selection import train_test_split\n",
        "from sklearn.feature_extraction.text import TfidfVectorizer\n",
        "from sklearn.ensemble import RandomForestClassifier, AdaBoostClassifier\n",
        "from sklearn.metrics import accuracy_score"
      ],
      "metadata": {
        "id": "FGXFqA_-l59M"
      },
      "execution_count": null,
      "outputs": []
    },
    {
      "cell_type": "code",
      "source": [
        "text_data = data['v2']\n",
        "labels = data['v1']\n",
        "tfidf_vectorizer = TfidfVectorizer(max_features=5000)\n",
        "tfidf_matrix = tfidf_vectorizer.fit_transform(text_data)\n",
        "X_train, X_test, y_train, y_test = train_test_split(tfidf_matrix, labels, test_size=0.2, random_state=42)"
      ],
      "metadata": {
        "id": "bvJEdfdhmA61"
      },
      "execution_count": null,
      "outputs": []
    },
    {
      "cell_type": "code",
      "source": [
        "random_forest = RandomForestClassifier(n_estimators=100, random_state=42)\n",
        "random_forest.fit(X_train, y_train)\n",
        "y_pred_rf = random_forest.predict(X_test)\n",
        "accuracy_rf = accuracy_score(y_test, y_pred_rf)\n",
        "print(\"Random Forest Accuracy:\", accuracy_rf)"
      ],
      "metadata": {
        "colab": {
          "base_uri": "https://localhost:8080/"
        },
        "id": "JTzfzrsAmFB6",
        "outputId": "f4381aae-f5bf-4b71-ccc8-7eb8b4966008"
      },
      "execution_count": null,
      "outputs": [
        {
          "output_type": "stream",
          "name": "stdout",
          "text": [
            "Random Forest Accuracy: 0.9757847533632287\n"
          ]
        }
      ]
    },
    {
      "cell_type": "code",
      "source": [
        "adaboost = AdaBoostClassifier(n_estimators=50, random_state=42)\n",
        "adaboost.fit(X_train, y_train)\n",
        "y_pred_ab = adaboost.predict(X_test)\n",
        "accuracy_ab = accuracy_score(y_test, y_pred_ab)\n",
        "print(\"AdaBoost Accuracy:\", accuracy_ab)"
      ],
      "metadata": {
        "colab": {
          "base_uri": "https://localhost:8080/"
        },
        "id": "zthBi24smJL_",
        "outputId": "18682708-bde9-41d1-fb9d-fb58cdfd4668"
      },
      "execution_count": null,
      "outputs": [
        {
          "output_type": "stream",
          "name": "stdout",
          "text": [
            "AdaBoost Accuracy: 0.967713004484305\n"
          ]
        }
      ]
    },
    {
      "cell_type": "markdown",
      "source": [
        "**Comparison**"
      ],
      "metadata": {
        "id": "hdQk_qFAuhT-"
      }
    },
    {
      "cell_type": "code",
      "source": [
        "import pandas as pd\n",
        "from sklearn.model_selection import train_test_split\n",
        "from sklearn.feature_extraction.text import TfidfVectorizer\n",
        "from sklearn.ensemble import RandomForestClassifier, AdaBoostClassifier\n",
        "from sklearn.metrics import accuracy_score\n",
        "data = pd.read_csv('spam.csv',encoding = 'ISO-8859-1')\n",
        "text_data = data['v2']\n",
        "labels = data['v1']\n",
        "tfidf_vectorizer = TfidfVectorizer(max_features=5000)\n",
        "tfidf_matrix = tfidf_vectorizer.fit_transform(text_data)"
      ],
      "metadata": {
        "id": "wI4Ywb1XmN5c"
      },
      "execution_count": null,
      "outputs": []
    },
    {
      "cell_type": "code",
      "source": [
        "X_train, X_test, y_train, y_test = train_test_split(tfidf_matrix, labels, test_size=0.2, random_state=42)"
      ],
      "metadata": {
        "id": "M-znnsF_mhKI"
      },
      "execution_count": null,
      "outputs": []
    },
    {
      "cell_type": "code",
      "source": [
        "random_forest = RandomForestClassifier(n_estimators=100, random_state=42)\n",
        "random_forest.fit(X_train, y_train)\n",
        "y_pred_rf = random_forest.predict(X_test)\n",
        "accuracy_rf = accuracy_score(y_test, y_pred_rf)"
      ],
      "metadata": {
        "id": "G7PEI7Hzmkox"
      },
      "execution_count": null,
      "outputs": []
    },
    {
      "cell_type": "code",
      "source": [
        "adaboost = AdaBoostClassifier(n_estimators=50, random_state=42)\n",
        "adaboost.fit(X_train, y_train)\n",
        "y_pred_ab = adaboost.predict(X_test)\n",
        "accuracy_ab = accuracy_score(y_test, y_pred_ab)"
      ],
      "metadata": {
        "id": "DtT2ZXJqmpCa"
      },
      "execution_count": null,
      "outputs": []
    },
    {
      "cell_type": "code",
      "source": [
        "print(\"Random Forest Accuracy:\", accuracy_rf)\n",
        "print(\"AdaBoost Accuracy:\", accuracy_ab)"
      ],
      "metadata": {
        "colab": {
          "base_uri": "https://localhost:8080/"
        },
        "id": "PCpBrsk-mt6O",
        "outputId": "610c39da-f729-4846-9b44-cf15ee5c6a16"
      },
      "execution_count": null,
      "outputs": [
        {
          "output_type": "stream",
          "name": "stdout",
          "text": [
            "Random Forest Accuracy: 0.9757847533632287\n",
            "AdaBoost Accuracy: 0.967713004484305\n"
          ]
        }
      ]
    },
    {
      "cell_type": "code",
      "source": [
        "if accuracy_rf > accuracy_ab:\n",
        "    print(\"Random Forest performs better.\")\n",
        "elif accuracy_ab > accuracy_rf:\n",
        "    print(\"AdaBoost performs better.\")\n",
        "else:\n",
        "    print(\"Both methods have the same accuracy.\")"
      ],
      "metadata": {
        "colab": {
          "base_uri": "https://localhost:8080/"
        },
        "id": "ooX6lH5umx8A",
        "outputId": "1485bd48-9c7b-4fdd-9602-dc7882e23fd2"
      },
      "execution_count": null,
      "outputs": [
        {
          "output_type": "stream",
          "name": "stdout",
          "text": [
            "Random Forest performs better.\n"
          ]
        }
      ]
    }
  ]
}